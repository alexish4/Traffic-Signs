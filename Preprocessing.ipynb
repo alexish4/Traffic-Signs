{
 "cells": [
  {
   "cell_type": "code",
   "execution_count": null,
   "id": "8cc02c25-4a39-432c-9299-dc3c4a50e13c",
   "metadata": {},
   "outputs": [],
   "source": [
    "import tensorflow as tf\n",
    "from tensorflow.keras.preprocessing.image import ImageDataGenerator\n",
    "import numpy as np\n",
    "import matplotlib.pyplot as plt\n",
    "import cv2\n",
    "import os\n",
    "from sklearn.preprocessing import LabelBinarizer\n",
    "import json"
   ]
  },
  {
   "cell_type": "code",
   "execution_count": null,
   "id": "10277f16-a747-478a-94ac-10c2abca85bc",
   "metadata": {},
   "outputs": [],
   "source": [
    "def load_image(image_path, target_size):\n",
    "    img = load_img(image_path, target_size=target_size)\n",
    "    img_array = img_to_array(img)\n",
    "    return img_array\n",
    "\n",
    "def parse_annotation(annotation_path):\n",
    "    with open(annotation_path) as f:\n",
    "        annotations = json.load(f)\n",
    "    return annotations\n",
    "\n",
    "def prepare_dataset(images_folder, annotations_file, target_size):\n",
    "    annotations = parse_annotation(annotations_file)\n",
    "    images = []\n",
    "    boxes = []\n",
    "    labels = []\n",
    "    \n",
    "    for annotation in annotations['annotations']:\n",
    "        image_id = annotation['image_id']\n",
    "        image_info = next(img for img in annotations['images'] if img['id'] == image_id)\n",
    "        image_path = os.path.join(images_folder, image_info['file_name'])\n",
    "        img = load_image(image_path, target_size)\n",
    "        bbox = annotation['bbox']\n",
    "        label = annotation['category_id']\n",
    "        \n",
    "        images.append(img)\n",
    "        boxes.append(bbox)\n",
    "        labels.append(label)\n",
    "    \n",
    "    images = np.array(images) / 255.0\n",
    "    return images, boxes, labels\n",
    "\n",
    "images_folder = 'archive/car/train'\n",
    "annotations_file = 'path/to/annotations.json'\n",
    "target_size = (512, 512)\n",
    "images, boxes, labels = prepare_dataset(images_folder, annotations_file, target_size)\n"
   ]
  }
 ],
 "metadata": {
  "kernelspec": {
   "display_name": "Python 3 (ipykernel)",
   "language": "python",
   "name": "python3"
  },
  "language_info": {
   "codemirror_mode": {
    "name": "ipython",
    "version": 3
   },
   "file_extension": ".py",
   "mimetype": "text/x-python",
   "name": "python",
   "nbconvert_exporter": "python",
   "pygments_lexer": "ipython3",
   "version": "3.11.7"
  }
 },
 "nbformat": 4,
 "nbformat_minor": 5
}
